{
  "cells": [
    {
      "cell_type": "markdown",
      "metadata": {
        "id": "V3szwJAdaoQa"
      },
      "source": [
        "## Enable rendering OpenAI Gym environments from CoLab\n",
        "\n",
        "In this assignemnt, We will use [OpenAI Gym](https://gym.openai.com/) for rendering game envionment for our agent to play and learn. It is possible and important to visualize the game your agent is playing, even on Colab. This section imports the necessary package and functions needed to generate a video in Colab. The video processing steps credit to [here](https://colab.research.google.com/drive/1flu31ulJlgiRL1dnN2ir8wGh9p7Zij2t)."
      ]
    },
    {
      "cell_type": "code",
      "execution_count": null,
      "metadata": {
        "colab": {
          "base_uri": "https://localhost:8080/"
        },
        "id": "M9fFfA-gb8oC",
        "outputId": "1097c01d-d3dc-44b1-e716-19e01d6f6c68"
      },
      "outputs": [
        {
          "output_type": "stream",
          "name": "stdout",
          "text": [
            "Looking in indexes: https://pypi.org/simple, https://us-python.pkg.dev/colab-wheels/public/simple/\n",
            "Requirement already satisfied: setuptools in /usr/local/lib/python3.9/dist-packages (67.6.1)\n"
          ]
        }
      ],
      "source": [
        "# You will need to run this block twice to make it effective\n",
        "!apt-get update > /dev/null 2>&1\n",
        "!apt-get install cmake > /dev/null 2>&1\n",
        "!pip install --upgrade setuptools 2>&1\n",
        "!pip install ez_setup > /dev/null 2>&1\n",
        "!pip install gym[atari] > /dev/null 2>&1\n",
        "!pip install box2d-py > /dev/null 2>&1\n",
        "!pip install gym[Box_2D] > /dev/null 2>&1"
      ]
    },
    {
      "cell_type": "code",
      "execution_count": null,
      "metadata": {
        "id": "NE1QQOVX27dp"
      },
      "outputs": [],
      "source": [
        "!pip install gym==0.15.3 pyvirtualdisplay > /dev/null 2>&1\n",
        "!apt-get install -y xvfb python-opengl ffmpeg > /dev/null 2>&1"
      ]
    },
    {
      "cell_type": "markdown",
      "metadata": {
        "id": "QfTPg6uZckCm"
      },
      "source": [
        "Import openAI gym and define the functions used to show the video."
      ]
    },
    {
      "cell_type": "code",
      "execution_count": null,
      "metadata": {
        "id": "JLl9cs6ncAf0"
      },
      "outputs": [],
      "source": [
        "import gym\n",
        "from gym.wrappers import Monitor\n",
        "import glob\n",
        "import io\n",
        "import base64\n",
        "from IPython.display import HTML\n",
        "from pyvirtualdisplay import Display\n",
        "from IPython import display as ipythondisplay\n",
        "\n",
        "display = Display(visible=0, size=(1400, 900))\n",
        "display.start()\n",
        "\n",
        "\"\"\"\n",
        "Utility functions to enable video recording of gym environment \n",
        "and displaying it.\n",
        "To enable video, just do \"env = wrap_env(env)\"\"\n",
        "\"\"\"\n",
        "\n",
        "def show_video():\n",
        "  mp4list = glob.glob('video/*.mp4')\n",
        "  if len(mp4list) > 0:\n",
        "    mp4 = mp4list[0]\n",
        "    video = io.open(mp4, 'r+b').read()\n",
        "    encoded = base64.b64encode(video)\n",
        "    ipythondisplay.display(HTML(data='''<video alt=\"test\" autoplay \n",
        "                loop controls style=\"height: 400px;\">\n",
        "                <source src=\"data:video/mp4;base64,{0}\" type=\"video/mp4\" />\n",
        "             </video>'''.format(encoded.decode('ascii'))))\n",
        "  else: \n",
        "    print(\"Could not find video\")\n",
        "    \n",
        "\n",
        "def wrap_env(env):\n",
        "  env = Monitor(env, './video', force=True)\n",
        "  return env"
      ]
    },
    {
      "cell_type": "markdown",
      "metadata": {
        "id": "UHkrflTWakKd"
      },
      "source": [
        "Import other packages:\n",
        "\n",
        "We will use Pytorch for building and learning our DQN network."
      ]
    },
    {
      "cell_type": "code",
      "execution_count": null,
      "metadata": {
        "id": "9KvZYSl6RrzD"
      },
      "outputs": [],
      "source": [
        "import torch\n",
        "from torch import nn\n",
        "import copy\n",
        "from collections import deque\n",
        "import random\n",
        "from tqdm import tqdm\n",
        "import matplotlib.pyplot as plt\n",
        "\n",
        "random.seed(42)"
      ]
    },
    {
      "cell_type": "markdown",
      "metadata": {
        "id": "zrLGCk-3ditk"
      },
      "source": [
        "## Run the game with random agent."
      ]
    },
    {
      "cell_type": "code",
      "execution_count": null,
      "metadata": {
        "id": "ZMcGALcWeWfh",
        "outputId": "b9e13317-4327-4471-fe30-3e46815a7369",
        "colab": {
          "base_uri": "https://localhost:8080/",
          "height": 452
        }
      },
      "outputs": [
        {
          "output_type": "stream",
          "name": "stderr",
          "text": [
            "100%|██████████| 20/20 [00:07<00:00,  2.75it/s]"
          ]
        },
        {
          "output_type": "stream",
          "name": "stdout",
          "text": [
            "average reward per episode : 22.15\n"
          ]
        },
        {
          "output_type": "stream",
          "name": "stderr",
          "text": [
            "\n"
          ]
        },
        {
          "output_type": "display_data",
          "data": {
            "text/plain": [
              "<IPython.core.display.HTML object>"
            ],
            "text/html": [
              "<video alt=\"test\" autoplay \n",
              "                loop controls style=\"height: 400px;\">\n",
              "                <source src=\"data:video/mp4;base64,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\" type=\"video/mp4\" />\n",
              "             </video>"
            ]
          },
          "metadata": {}
        }
      ],
      "source": [
        "from torch import randint\n",
        "from time import sleep\n",
        "\n",
        "env = wrap_env(gym.make('CartPole-v1'))\n",
        "reward_arr = []\n",
        "episode_count = 20\n",
        "for i in tqdm(range(episode_count)):\n",
        "    obs, done, rew = env.reset(), False, 0\n",
        "    env.render()\n",
        "    while not done:\n",
        "        A = randint(0, env.action_space.n, (1,))\n",
        "        obs, reward, done, info = env.step(A.item())\n",
        "        rew += reward\n",
        "        sleep(0.01)\n",
        "    reward_arr.append(rew)\n",
        "print(\"average reward per episode :\", sum(reward_arr) / len(reward_arr))\n",
        "env.close()\n",
        "show_video()"
      ]
    },
    {
      "cell_type": "markdown",
      "metadata": {
        "id": "Ope0zHAjfXQh"
      },
      "source": [
        "The episode ends when the pole is more than 15 degrees from vertical, or the cart moves more than 2.4 units from the center. The video is short (< 1s) because the pole loses balance immediately. \n",
        "\n",
        "You can see that a random agent is having trouble balancing the CartPole, just like you. However, a difficult game for human may be very simple to a computer. Let's see how we can use DQN to train a agent. "
      ]
    },
    {
      "cell_type": "markdown",
      "metadata": {
        "id": "OjP_2jn3SFgv"
      },
      "source": [
        "## Experience Replay\n",
        "\n",
        "The technique of experience replay was first proposed in to resolve temporal correlation in the input data by mixing recent experiences as well past experiences, essentially forcing the input to become independent and identically distributed (i.i.d.). It has been shown that this greatly stabilizes\n",
        "and improves the DQN training procedure."
      ]
    },
    {
      "cell_type": "code",
      "execution_count": null,
      "metadata": {
        "id": "SoxW1Jlnk8mS"
      },
      "outputs": [],
      "source": [
        "class ExperienceReplay(object):\n",
        "      def __init__(self, length):\n",
        "        self.experience_replay = deque(maxlen=length)\n",
        "\n",
        "      def collect(self, experience):\n",
        "        self.experience_replay.append(experience)\n",
        "        return\n",
        "\n",
        "      def sample_from_experience(self, sample_size):\n",
        "        if len(self.experience_replay) < sample_size:\n",
        "            sample_size = len(self.experience_replay)\n",
        "        sample = random.sample(self.experience_replay, sample_size)\n",
        "        state = torch.tensor([exp[0] for exp in sample]).float()\n",
        "        action = torch.tensor([exp[1] for exp in sample]).float()\n",
        "        reward = torch.tensor([exp[2] for exp in sample]).float()\n",
        "        next_state = torch.tensor([exp[3] for exp in sample]).float()\n",
        "        return state, action, reward, next_state\n"
      ]
    },
    {
      "cell_type": "markdown",
      "metadata": {
        "id": "CgXwmV2im4Sx"
      },
      "source": [
        "## Build our DQN Network\n",
        "\n",
        "We will use a simple multi-layer neural network to learn the optimal actions. We will use Adam Optimizor and MSE loss for training. **Notice that the loss function and gamma is given to you in the class attribute.** "
      ]
    },
    {
      "cell_type": "code",
      "execution_count": null,
      "metadata": {
        "id": "Wmd1pfuRm7MQ"
      },
      "outputs": [],
      "source": [
        "class DQN_Network:\n",
        "\n",
        "    def __init__(self, layer_size_list, lr, seed=1423):\n",
        "        torch.manual_seed(seed)\n",
        "        self.policy_net = self.create_network(layer_size_list)\n",
        "        self.target_net = copy.deepcopy(self.policy_net)\n",
        "  \n",
        "        self.loss_fn = torch.nn.MSELoss() # the loss function\n",
        "        self.optimizer = torch.optim.Adam(self.policy_net.parameters(), lr=lr)\n",
        "\n",
        "        self.step = 0\n",
        "        self.gamma = torch.tensor(0.95).float()\n",
        "        return\n",
        "\n",
        "    def create_network(self, layer_size_list):\n",
        "        assert len(layer_size_list) > 1\n",
        "\n",
        "        layers = []\n",
        "        for i in range(len(layer_size_list) - 1):\n",
        "            linear = nn.Linear(layer_size_list[i], layer_size_list[i + 1])\n",
        "\n",
        "            if i < len(layer_size_list) - 2:\n",
        "              activation = nn.Tanh()\n",
        "            else:\n",
        "              activation = nn.Identity()\n",
        "\n",
        "            layers += (linear, activation)\n",
        "        return nn.Sequential(*layers)\n",
        "\n",
        "    def load_pretrained_model(self, model_path):\n",
        "        self.policy_net.load_state_dict(torch.load(model_path))\n",
        "\n",
        "    def save_trained_model(self, model_path=\"cartpole-dqn.pth\"):\n",
        "        torch.save(self.policy_net.state_dict(), model_path)\n"
      ]
    },
    {
      "cell_type": "markdown",
      "metadata": {
        "id": "xKVV16YctASm"
      },
      "source": [
        "## **[Your task]**: complete the function that chooses the next action\n",
        "\n",
        "Choose next action based on **$\\epsilon$-greedy**:\n",
        "\n",
        "\\begin{align}\\text{where} \\quad \\mathcal{a_{t+1}} = \\begin{cases}\n",
        "     \\text{argmax}_{a}Q(a, s)  & \\text{with probability }: 1 - \\epsilon, \\text{exploitation}\\\\\n",
        "     \\text{Uniform}\\{a_{1},...,a_{n}\\} & \\text{with probability}:   \\epsilon, \\text{exploration} \\\\\n",
        "   \\end{cases}\\end{align}"
      ]
    },
    {
      "cell_type": "code",
      "execution_count": null,
      "metadata": {
        "id": "iE0gVweYs8xW"
      },
      "outputs": [],
      "source": [
        "def get_action(model, state, action_space_len, epsilon):\n",
        "    # We do not require gradient at this point, because this function will be used either\n",
        "    # during experience collection or during inference\n",
        "\n",
        "    with torch.no_grad():\n",
        "        Qp = model.policy_net(torch.from_numpy(state).float())\n",
        "\n",
        "    ## TODO: select and return action based on epsilon-greedy\n",
        "    if random.random() <= epsilon:\n",
        "        return torch.tensor(random.randrange(action_space_len)) # exploration\n",
        "    else:\n",
        "        return torch.argmax(Qp) # exploitation"
      ]
    },
    {
      "cell_type": "markdown",
      "metadata": {
        "id": "iF9a5-IbazjQ"
      },
      "source": [
        "### **[Your task]**: complete the function that train the network for one step\n",
        "\n",
        "Here, you can find an ``train`` function that performs a\n",
        "single step of the optimization. \n",
        "\n",
        "For our training update rule, the loss you are trying to minimize is:\n",
        "\n",
        "\\begin{align}\\text{loss} = Q(s, a) - (r + \\gamma \\max_a Q(s', a))\\end{align}"
      ]
    },
    {
      "cell_type": "code",
      "execution_count": null,
      "metadata": {
        "id": "mtx4FAiab0Hp"
      },
      "outputs": [],
      "source": [
        "def train(model, batch_size):\n",
        "    state, action, reward, next_state = memory.sample_from_experience(sample_size=batch_size)\n",
        "\n",
        "    # TODO: predict expected return of current state using main network\n",
        "    q = torch.gather(model.policy_net(state), 1, action.unsqueeze(-1).long()).squeeze()\n",
        "    # TODO: get target return using target network\n",
        "    q_target = reward + model.gamma * model.target_net(next_state).max(dim=1)[0]\n",
        "\n",
        "    # TODO: compute the loss\n",
        "    loss = model.loss_fn(q, q_target)\n",
        "    model.optimizer.zero_grad()\n",
        "    loss.backward(retain_graph=True)\n",
        "    model.optimizer.step()\n",
        "\n",
        "    model.step += 1\n",
        "    if model.step % 5 == 0:\n",
        "        model.target_net.load_state_dict(model.policy_net.state_dict())\n",
        "\n",
        "    return loss.item()"
      ]
    },
    {
      "cell_type": "markdown",
      "metadata": {
        "id": "uskoe87Uz-Jg"
      },
      "source": [
        "### **[Your task]**: Finish the training loop\n",
        "\n",
        "In this part, you can play around with ```exp_replay_size```, ```episode```, ```epsilon``` and the \"episodo decay\" logic to train your model. **If you have done correctly, you will observe that the training time for the latter episodes is longer than the early episodes. This is because your agent is getting better and better at playing the game and thus each episode takes longer**"
      ]
    },
    {
      "cell_type": "code",
      "execution_count": null,
      "metadata": {
        "id": "3NfNnyD6SPpN",
        "outputId": "f29ba62a-c118-41ae-b1f4-ece34d39882b",
        "colab": {
          "base_uri": "https://localhost:8080/"
        }
      },
      "outputs": [
        {
          "output_type": "stream",
          "name": "stderr",
          "text": [
            "100%|██████████| 12000/12000 [03:12<00:00, 62.39it/s]"
          ]
        },
        {
          "output_type": "stream",
          "name": "stdout",
          "text": [
            "Saving trained model\n"
          ]
        },
        {
          "output_type": "stream",
          "name": "stderr",
          "text": [
            "\n"
          ]
        }
      ],
      "source": [
        "# Create the model\n",
        "env = gym.make('CartPole-v0')\n",
        "input_dim = env.observation_space.shape[0]\n",
        "output_dim = env.action_space.n\n",
        "agent = DQN_Network(layer_size_list=[input_dim, 64, output_dim], lr=1e-3)\n",
        "\n",
        "# Main training loop\n",
        "losses_list, reward_list, episode_len_list, epsilon_list = [], [], [], []\n",
        "\n",
        "# TODO: try different values, it normally takes more than 6k episodes to train\n",
        "exp_replay_size = 100\n",
        "memory = ExperienceReplay(exp_replay_size)\n",
        "episodes = 12000\n",
        "epsilon = 1 # episilon start from 1 and decay gradually. \n",
        "min_epsilon = 0.01\n",
        "\n",
        "# initiliaze experiance replay\n",
        "index = 0\n",
        "for i in range(exp_replay_size):\n",
        "    obs = env.reset()\n",
        "    done = False\n",
        "    while not done:\n",
        "        A = get_action(agent, obs, env.action_space.n, epsilon=1)\n",
        "        obs_next, reward, done, _ = env.step(A.item())\n",
        "        memory.collect([obs, A.item(), reward, obs_next])\n",
        "        obs = obs_next\n",
        "        index += 1\n",
        "        if index > exp_replay_size:\n",
        "            break\n",
        "\n",
        "index = 128\n",
        "for i in tqdm(range(episodes)):\n",
        "    obs, done, losses, ep_len, rew = env.reset(), False, 0, 0, 0\n",
        "    while not done:\n",
        "        ep_len += 1\n",
        "        A = get_action(agent, obs, env.action_space.n, epsilon)\n",
        "        obs_next, reward, done, _ = env.step(A.item())\n",
        "        memory.collect([obs, A.item(), reward, obs_next])\n",
        "\n",
        "        obs = obs_next\n",
        "        rew += reward\n",
        "        index += 1\n",
        "\n",
        "        if index > 128:\n",
        "            index = 0\n",
        "            for j in range(4):\n",
        "                loss = train(agent, batch_size=16)\n",
        "                losses += loss\n",
        "    \n",
        "    # TODO: add epsilon decay rule here! \n",
        "    if epsilon > min_epsilon:\n",
        "      epsilon *= 0.999\n",
        "\n",
        "    losses_list.append(losses / ep_len), reward_list.append(rew)\n",
        "    episode_len_list.append(ep_len), epsilon_list.append(epsilon)\n",
        "\n",
        "print(\"Saving trained model\")\n",
        "agent.save_trained_model(\"cartpole-dqn.pth\")"
      ]
    },
    {
      "cell_type": "markdown",
      "metadata": {
        "id": "CCow7jNXf5YT"
      },
      "source": [
        "## Last Step: evaluate your trained model! **Make sure to include your visualizations (plot+video) in the notebook for your submission!**\n",
        "\n",
        "First we can plot the reward vs. episode. **If you have done correctly, you should see the reward can stabilize at 200 in later episodes**\\"
      ]
    },
    {
      "cell_type": "code",
      "execution_count": null,
      "metadata": {
        "id": "-Hy_FP7yeXA4",
        "outputId": "76afa12e-ed1c-43e1-969d-0959851487c7",
        "colab": {
          "base_uri": "https://localhost:8080/",
          "height": 471
        }
      },
      "outputs": [
        {
          "output_type": "display_data",
          "data": {
            "text/plain": [
              "<Figure size 640x480 with 1 Axes>"
            ],
            "image/png": "[encoded data removed]"
          },
          "metadata": {}
        }
      ],
      "source": [
        "def plot_reward(r):\n",
        "    plt.figure(2)\n",
        "    plt.clf()\n",
        "    plt.title('Result')\n",
        "    plt.xlabel('Episode')\n",
        "    plt.ylabel('Reward')\n",
        "    plt.plot(r)\n",
        "\n",
        "plot_reward(reward_list)"
      ]
    },
    {
      "cell_type": "markdown",
      "metadata": {
        "id": "EixOpGakoyi4"
      },
      "source": [
        "Next let check out how well your agent plays the game. **If you have done correctly, you should see a relatively longer video (> 3~4s) with a self-balancing pole.**"
      ]
    },
    {
      "cell_type": "code",
      "execution_count": null,
      "metadata": {
        "id": "EMEivKldTGVG",
        "outputId": "9db105d9-da2e-4fc7-dd41-e192311166df",
        "colab": {
          "base_uri": "https://localhost:8080/",
          "height": 452
        }
      },
      "outputs": [
        {
          "output_type": "stream",
          "name": "stderr",
          "text": [
            "100%|██████████| 200/200 [00:23<00:00,  8.64it/s]"
          ]
        },
        {
          "output_type": "stream",
          "name": "stdout",
          "text": [
            "average reward per episode : 282.945\n"
          ]
        },
        {
          "output_type": "stream",
          "name": "stderr",
          "text": [
            "\n"
          ]
        },
        {
          "output_type": "display_data",
          "data": {
            "text/plain": [
              "<IPython.core.display.HTML object>"
            ],
            "text/html": [
              "<video alt=\"test\" autoplay \n",
              "                loop controls style=\"height: 400px;\">\n",
              "                <source src=\"data:video/mp4;base64,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\" type=\"video/mp4\" />\n",
              "             </video>"
            ]
          },
          "metadata": {}
        }
      ],
      "source": [
        "env = wrap_env(gym.make('CartPole-v1'))\n",
        "\n",
        "input_dim = env.observation_space.shape[0]\n",
        "output_dim = env.action_space.n\n",
        "model_validate = DQN_Network(layer_size_list=[input_dim, 64, output_dim], lr=1e-3)\n",
        "model_validate.load_pretrained_model(\"cartpole-dqn.pth\")\n",
        "\n",
        "reward_arr = []\n",
        "for i in tqdm(range(200)):\n",
        "    obs, done, rew = env.reset(), False, 0\n",
        "    env.render()\n",
        "    while not done:\n",
        "        A = get_action(model_validate, obs, env.action_space.n, epsilon=0)\n",
        "        obs, reward, done, info = env.step(A.item())\n",
        "        rew += reward\n",
        "        # sleep(0.01)\n",
        "\n",
        "    reward_arr.append(rew)\n",
        "print(\"average reward per episode :\", sum(reward_arr) / len(reward_arr))\n",
        "env.close()\n",
        "show_video()"
      ]
    },
    {
      "cell_type": "code",
      "execution_count": null,
      "metadata": {
        "id": "VTAa6RAWTKZJ"
      },
      "outputs": [],
      "source": []
    }
  ],
  "metadata": {
    "accelerator": "GPU",
    "colab": {
      "provenance": []
    },
    "kernelspec": {
      "display_name": "Python 3 (ipykernel)",
      "language": "python",
      "name": "python3"
    },
    "language_info": {
      "codemirror_mode": {
        "name": "ipython",
        "version": 3
      },
      "file_extension": ".py",
      "mimetype": "text/x-python",
      "name": "python",
      "nbconvert_exporter": "python",
      "pygments_lexer": "ipython3",
      "version": "3.7.13"
    }
  },
  "nbformat": 4,
  "nbformat_minor": 0
}